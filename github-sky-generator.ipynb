{
 "cells": [
  {
   "cell_type": "code",
   "execution_count": 1,
   "metadata": {},
   "outputs": [],
   "source": [
    "import requests\n",
    "from bs4 import BeautifulSoup, StopParsing\n",
    "import numpy as np\n",
    "import random\n",
    "import matplotlib.pyplot as plt\n",
    "import matplotlib.pyplot as mat2gray"
   ]
  },
  {
   "cell_type": "markdown",
   "metadata": {},
   "source": [
    "# Scraper"
   ]
  },
  {
   "cell_type": "code",
   "execution_count": 2,
   "metadata": {},
   "outputs": [],
   "source": [
    "def get_user_contributions(user):\n",
    "    \"\"\"\n",
    "    Function that given a github profile, returns the cuantity of contributions that the user has made\n",
    "    \"\"\"\n",
    "\n",
    "    url = f\"https://github.com/{user}\"\n",
    "    r = requests.get(url)\n",
    "    soup = BeautifulSoup(r.text, \"html.parser\")\n",
    "\n",
    "    # Search for all tags call 'rect'\n",
    "    contributions = soup.find_all(\"rect\")\n",
    "    # print(contributions)\n",
    "\n",
    "    dates = []\n",
    "    data_count = []\n",
    "    data_level = []\n",
    "    for i in range(len(contributions)):\n",
    "        # Delete what's not usefull\n",
    "        if \"data-count\" not in contributions[i].attrs:\n",
    "            continue\n",
    "        else:\n",
    "            # Add the data to some list's\n",
    "            dates.append(contributions[i][\"data-date\"])\n",
    "            data_count.append(contributions[i][\"data-count\"])\n",
    "            data_level.append(contributions[i][\"data-level\"])\n",
    "\n",
    "    return dates, data_count, data_level\n",
    "\n",
    "dates, data_count, data_level = get_user_contributions(\"satelerd\")"
   ]
  },
  {
   "cell_type": "markdown",
   "metadata": {},
   "source": [
    "# Stars generator"
   ]
  },
  {
   "cell_type": "code",
   "execution_count": 1,
   "metadata": {},
   "outputs": [
    {
     "ename": "NameError",
     "evalue": "name 'data_level' is not defined",
     "output_type": "error",
     "traceback": [
      "\u001b[1;31m---------------------------------------------------------------------------\u001b[0m",
      "\u001b[1;31mNameError\u001b[0m                                 Traceback (most recent call last)",
      "\u001b[1;32m~\\AppData\\Local\\Temp/ipykernel_3320/285421395.py\u001b[0m in \u001b[0;36m<module>\u001b[1;34m\u001b[0m\n\u001b[0;32m     51\u001b[0m     \u001b[1;32mreturn\u001b[0m \u001b[0mstars\u001b[0m\u001b[1;33m\u001b[0m\u001b[1;33m\u001b[0m\u001b[0m\n\u001b[0;32m     52\u001b[0m \u001b[1;33m\u001b[0m\u001b[0m\n\u001b[1;32m---> 53\u001b[1;33m \u001b[0mstars\u001b[0m \u001b[1;33m=\u001b[0m \u001b[0mstar_generator\u001b[0m\u001b[1;33m(\u001b[0m\u001b[0mdata_level\u001b[0m\u001b[1;33m)\u001b[0m\u001b[1;33m\u001b[0m\u001b[1;33m\u001b[0m\u001b[0m\n\u001b[0m",
      "\u001b[1;31mNameError\u001b[0m: name 'data_level' is not defined"
     ]
    }
   ],
   "source": [
    "def star_generator(data):\n",
    "    \"\"\"\n",
    "    Function that given a list of contributions generate a graph of it\n",
    "    \"\"\"\n",
    "\n",
    "    # Generate the principal matrix which will be graphed\n",
    "    stars = (\n",
    "        []\n",
    "    )  # List in witch each element represents a day, and inside each day a list with 0 and 1, 0 if there is no star, 1 if there is a star\n",
    "    weeks = 52\n",
    "    weeks = 10\n",
    "    days = 7\n",
    "    rows_day = 3\n",
    "    cols_day = 3\n",
    "    for week in range(12, weeks + 12):\n",
    "        for day in range(days):\n",
    "            # Here we define the value of how many starts we need to generate that day\n",
    "            # Then we add it to a list in a random order\n",
    "            level = int(data[day + (days * week)])\n",
    "            stars_cuantity = rows_day * cols_day / 6 * (level + 1)\n",
    "            day_stars = []\n",
    "            for i in range(rows_day * cols_day):\n",
    "                if i <= stars_cuantity:\n",
    "                    day_stars.append(1)\n",
    "                else:\n",
    "                    day_stars.append(0)\n",
    "            random.shuffle(day_stars)\n",
    "\n",
    "            day_matrix = []\n",
    "            for row in range(rows_day):\n",
    "                row_matrix = []\n",
    "\n",
    "                for col in range(cols_day):\n",
    "                    row_matrix.append(day_stars[row * cols_day + col])\n",
    "\n",
    "                day_matrix.append(row_matrix)\n",
    "            stars.append(day_matrix)\n",
    "\n",
    "    # stars is actually a tensor\n",
    "    # so now we have to generate a list that will reorder the stars in the tensor so that it become a matrix and it can be graphed.\n",
    "    \n",
    "    \n",
    "    # We do this by using the function np.ravel()\n",
    "    stars_matrix = []\n",
    "    for week in range(weeks):\n",
    "        for day in range(days):\n",
    "            stars_matrix.append(np.ravel(stars[week * days + day]))\n",
    "            \n",
    "\n",
    "    return stars\n",
    "\n",
    "stars = star_generator(data_level)"
   ]
  },
  {
   "cell_type": "code",
   "execution_count": null,
   "metadata": {},
   "outputs": [],
   "source": []
  }
 ],
 "metadata": {
  "interpreter": {
   "hash": "f079f780ce5bc03bfb1375b5bb02df12012bc36a98ebecbb0784070d57925841"
  },
  "kernelspec": {
   "display_name": "Python 3.9.6 64-bit",
   "name": "python3"
  },
  "language_info": {
   "codemirror_mode": {
    "name": "ipython",
    "version": 3
   },
   "file_extension": ".py",
   "mimetype": "text/x-python",
   "name": "python",
   "nbconvert_exporter": "python",
   "pygments_lexer": "ipython3",
   "version": "3.9.6"
  },
  "orig_nbformat": 4
 },
 "nbformat": 4,
 "nbformat_minor": 2
}
